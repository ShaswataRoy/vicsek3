{
 "cells": [
  {
   "cell_type": "code",
   "execution_count": 2,
   "metadata": {
    "collapsed": true
   },
   "outputs": [],
   "source": [
    "import warnings\n",
    "warnings.filterwarnings('ignore')"
   ]
  },
  {
   "cell_type": "code",
   "execution_count": 3,
   "metadata": {
    "collapsed": true
   },
   "outputs": [],
   "source": [
    "%matplotlib inline\n",
    "import numpy as np\n",
    "import pandas as pd\n",
    "import matplotlib.pyplot as plt\n",
    "plt.style.use('default')"
   ]
  },
  {
   "cell_type": "code",
   "execution_count": 53,
   "metadata": {
    "collapsed": true
   },
   "outputs": [],
   "source": [
    "sigma = np.linspace(0.,0.5,5)"
   ]
  },
  {
   "cell_type": "code",
   "execution_count": 54,
   "metadata": {
    "collapsed": true
   },
   "outputs": [],
   "source": [
    "P1 = np.exp(-sigma**2/2)\n",
    "P2 = np.exp(-2*sigma**2)\n",
    "P3 = np.exp(-9*sigma**2/2)\n",
    "P4 = np.exp(-16*sigma**2/2)"
   ]
  },
  {
   "cell_type": "code",
   "execution_count": 69,
   "metadata": {
    "collapsed": true
   },
   "outputs": [],
   "source": [
    "rho = .125"
   ]
  },
  {
   "cell_type": "code",
   "execution_count": 71,
   "metadata": {
    "collapsed": true
   },
   "outputs": [],
   "source": [
    "mu = (8/np.pi)*((2*np.sqrt(2)-1)*P2/3 - 7/5)*rho-1+P2\n",
    "eta = (32/(35*np.pi))*(1/15+P4)*(13/9-(6*np.sqrt(2)+1)*P2/np.pi)\n",
    "eta = eta/((8/(3*np.pi))*(31/21+P4/5)*rho+1-P4)"
   ]
  },
  {
   "cell_type": "code",
   "execution_count": 72,
   "metadata": {},
   "outputs": [
    {
     "data": {
      "text/plain": [
       "0.022444141619192788"
      ]
     },
     "execution_count": 72,
     "metadata": {},
     "output_type": "execute_result"
    }
   ],
   "source": [
    "mu/eta"
   ]
  },
  {
   "cell_type": "code",
   "execution_count": 58,
   "metadata": {},
   "outputs": [
    {
     "data": {
      "text/plain": [
       "[<matplotlib.lines.Line2D at 0x7f1cdd3e4dd0>]"
      ]
     },
     "execution_count": 58,
     "metadata": {},
     "output_type": "execute_result"
    },
    {
     "data": {
      "image/png": "[encoded data removed]",
      "text/plain": [
       "<matplotlib.figure.Figure at 0x7f1cd5956090>"
      ]
     },
     "metadata": {},
     "output_type": "display_data"
    }
   ],
   "source": [
    "plt.plot(sigma,np.sqrt(mu/etz))"
   ]
  },
  {
   "cell_type": "code",
   "execution_count": 92,
   "metadata": {
    "collapsed": true
   },
   "outputs": [],
   "source": [
    "rho = .4\n",
    "lam = .2\n",
    "sigma0=1\n",
    "sigma = np.linspace(0,5,5)\n",
    "\n",
    "P1 = np.exp(-sigma**2/2)\n",
    "P0 = np.exp(-sigma0**2/2)\n",
    "\n",
    "mu = (4/np.pi)*(P1-2/3)+lam*(1-P0)\n",
    "nu = 1/(lam*(1-P0**2)+(4/np.pi)*rho*(14/15+2*P1**2/3))\n",
    "eta = (64*nu/(np.pi**2))*(P1-2/5)*(1/3+P1**2)"
   ]
  },
  {
   "cell_type": "code",
   "execution_count": 65,
   "metadata": {
    "collapsed": true
   },
   "outputs": [],
   "source": [
    "%matplotlib inline\n",
    "import numpy as np\n",
    "import pandas as pd\n",
    "import matplotlib.pyplot as plt\n",
    "plt.style.use('default')\n",
    "#Extract Data\n",
    "x,y,vx,vy = np.loadtxt('data2/16.txt',delimiter='\\t',unpack=True)"
   ]
  },
  {
   "cell_type": "code",
   "execution_count": 215,
   "metadata": {},
   "outputs": [
    {
     "data": {
      "image/png": "[encoded data removed]",
      "text/plain": [
       "<matplotlib.figure.Figure at 0x7f7ed9d53a10>"
      ]
     },
     "metadata": {},
     "output_type": "display_data"
    }
   ],
   "source": [
    "#Extract Data\n",
    "for it in np.arange(1501,3000):\n",
    "    x,y,vx,vy = np.loadtxt('data2/'+str(it)+'.txt',delimiter='\\t',unpack=True)\n",
    "\n",
    "\n",
    "    x_int = [int(x[k]/4) for k in range(len(x))]\n",
    "    y_int = [int(y[k]/4) for k in range(len(y))]\n",
    "\n",
    "    for i in range(16):\n",
    "        for j in range(16):\n",
    "            mean_cos=0\n",
    "            mean_sin=0\n",
    "            count = 1\n",
    "            for k in range(len(x)):\n",
    "                if(x_int[k]==i and y_int[k]==j):\n",
    "                    angle = np.arctan(vy[k]/vx[k])\n",
    "                    mean_cos += np.cos(angle)\n",
    "                    mean_sin += np.sin(angle)\n",
    "                    count += 1\n",
    "            if(count!=0):\n",
    "                order[i][j] = np.sqrt(mean_cos**2+mean_sin**2)/count\n",
    "\n",
    "    \n",
    "    plt.imshow(order, cmap='hot', interpolation='nearest');\n",
    "    plt.savefig('image/'+str(it)+'.png')\n",
    "\n",
    "#plt.scatter(x_int,y_int);"
   ]
  },
  {
   "cell_type": "code",
   "execution_count": 223,
   "metadata": {},
   "outputs": [
    {
     "name": "stderr",
     "output_type": "stream",
     "text": [
      "/home/owner/anaconda2/lib/python2.7/site-packages/ipykernel_launcher.py:17: RuntimeWarning: divide by zero encountered in double_scalars\n"
     ]
    },
    {
     "data": {
      "image/png": "[encoded data removed]",
      "text/plain": [
       "<matplotlib.figure.Figure at 0x7f7f05b1e050>"
      ]
     },
     "metadata": {},
     "output_type": "display_data"
    }
   ],
   "source": [
    "#Extract Data\n",
    "order = np.zeros([50,50])\n",
    "for it in np.arange(151,300):\n",
    "    x,y,vx,vy = np.loadtxt('data3/'+str(it)+'.txt',delimiter='\\t',unpack=True)\n",
    "\n",
    "\n",
    "    x_int = [int(x[k]/4) for k in range(len(x))]\n",
    "    y_int = [int(y[k]/4) for k in range(len(y))]\n",
    "\n",
    "    for i in range(50):\n",
    "        for j in range(50):\n",
    "            mean_cos=0\n",
    "            mean_sin=0\n",
    "            count = 0\n",
    "            for k in range(len(x)):\n",
    "                if(x_int[k]==i and y_int[k]==j):\n",
    "                    angle = np.arctan(vy[k]/vx[k])\n",
    "                    mean_cos += np.cos(angle)\n",
    "                    mean_sin += np.sin(angle)\n",
    "                    count += 1\n",
    "            if(count!=0):\n",
    "                order[i][j] = np.sqrt(mean_cos**2+mean_sin**2)/count\n",
    "\n",
    "    \n",
    "    plt.imshow(order, cmap='hot', interpolation='nearest');\n",
    "    plt.savefig('image3/'+str(it)+'.png')\n",
    "\n",
    "#plt.scatter(x_int,y_int);"
   ]
  },
  {
   "cell_type": "code",
   "execution_count": 209,
   "metadata": {},
   "outputs": [
    {
     "data": {
      "text/plain": [
       "<matplotlib.figure.Figure at 0x7f7ed9d80a90>"
      ]
     },
     "metadata": {},
     "output_type": "display_data"
    }
   ],
   "source": [
    "plt.figure().savefig('new.png')"
   ]
  },
  {
   "cell_type": "code",
   "execution_count": 198,
   "metadata": {
    "collapsed": true
   },
   "outputs": [],
   "source": [
    "v=[]\n",
    "mean_cos=0\n",
    "mean_sin=0\n",
    "angle = 0\n",
    "order = np.zeros([16,16])\n",
    "count = 0\n",
    "for i in range(16):\n",
    "    for j in range(16):\n",
    "        mean_cos=0\n",
    "        mean_sin=0\n",
    "        count = 0\n",
    "        for k in range(len(x)):\n",
    "            if(int(x[k]/4)==i & int(y[k]/4)==j):\n",
    "                angle = np.arctan(vy[k]/vx[k])\n",
    "                mean_cos += np.cos(angle)\n",
    "                mean_sin += np.sin(angle)\n",
    "                count += 1\n",
    "        if(count!=0):\n",
    "            order[i][j] = np.sqrt(mean_cos**2+mean_sin**2)/count"
   ]
  },
  {
   "cell_type": "code",
   "execution_count": 203,
   "metadata": {},
   "outputs": [
    {
     "data": {
      "text/plain": [
       "0.9860219956180466"
      ]
     },
     "execution_count": 203,
     "metadata": {},
     "output_type": "execute_result"
    }
   ],
   "source": [
    "count = 0\n",
    "for k in range(len(x)):\n",
    "    if(x_int[k]==10 and y_int[k]==3):\n",
    "        angle = np.arctan(vy[k]/vx[k])\n",
    "        mean_cos += np.cos(angle)\n",
    "        mean_sin += np.sin(angle)\n",
    "        count += 1\n",
    "np.sqrt(mean_cos**2+mean_sin**2)/count"
   ]
  },
  {
   "cell_type": "code",
   "execution_count": 17,
   "metadata": {},
   "outputs": [
    {
     "data": {
      "image/png": "[encoded data removed]",
      "text/plain": [
       "<matplotlib.figure.Figure at 0x7fd9e1b34a10>"
      ]
     },
     "metadata": {},
     "output_type": "display_data"
    }
   ],
   "source": [
    "#Extract Data\n",
    "order = np.zeros([32,32])\n",
    "for it in np.arange(1001,2000):\n",
    "    x,y,vx,vy = np.loadtxt('data4/'+str(it)+'.txt',delimiter='\\t',unpack=True)\n",
    "\n",
    "\n",
    "    x_int = [int(x[k]/4) for k in range(len(x))]\n",
    "    y_int = [int(y[k]/4) for k in range(len(y))]\n",
    "\n",
    "    for i in range(32):\n",
    "        for j in range(32):\n",
    "            mean_cos=0\n",
    "            mean_sin=0\n",
    "            count = 0\n",
    "            for k in range(len(x)):\n",
    "                if(x_int[k]==i and y_int[k]==j):\n",
    "                    angle = np.arctan(vy[k]/vx[k])\n",
    "                    mean_cos += np.cos(2*angle)\n",
    "                    mean_sin += np.sin(2*angle)\n",
    "                    count += 1\n",
    "            if(count!=0):\n",
    "                order[i][j] = np.sqrt(mean_cos**2+mean_sin**2)/count\n",
    "\n",
    "    \n",
    "    plt.imshow(order, cmap='hot', interpolation='nearest');\n",
    "    plt.savefig('heatmap_nematics/'+str(it)+'.png')"
   ]
  },
  {
   "cell_type": "code",
   "execution_count": 19,
   "metadata": {},
   "outputs": [
    {
     "data": {
      "text/plain": [
       "<matplotlib.figure.Figure at 0x7fd99c5020d0>"
      ]
     },
     "metadata": {},
     "output_type": "display_data"
    }
   ],
   "source": [
    "for i in np.arange(0,4999):\n",
    "    L=128\n",
    "    x,y,vx,vy = np.loadtxt('data5/'+str(i)+'.txt',delimiter='\\t',unpack=True)\n",
    "    theta = np.arctan(vy/vx)\n",
    "    axes = plt.gca()\n",
    "    axes.set_xlim([0,L])\n",
    "    axes.set_ylim([0,L])\n",
    "    plt.quiver(x,y,np.cos(theta),np.sin(theta), units='width',scale=100,width=0.005)    #plt.scatter(x, y)\n",
    "    plt.savefig('image_nematics/'+str(i)+'.png')\n",
    "    plt.gcf().clear()\n"
   ]
  },
  {
   "cell_type": "code",
   "execution_count": null,
   "metadata": {
    "collapsed": true
   },
   "outputs": [],
   "source": []
  }
 ],
 "metadata": {
  "kernelspec": {
   "display_name": "Python 2",
   "language": "python",
   "name": "python2"
  },
  "language_info": {
   "codemirror_mode": {
    "name": "ipython",
    "version": 2
   },
   "file_extension": ".py",
   "mimetype": "text/x-python",
   "name": "python",
   "nbconvert_exporter": "python",
   "pygments_lexer": "ipython2",
   "version": "2.7.14"
  }
 },
 "nbformat": 4,
 "nbformat_minor": 2
}
